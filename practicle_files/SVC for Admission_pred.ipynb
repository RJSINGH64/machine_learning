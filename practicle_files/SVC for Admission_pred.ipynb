{
 "cells": [
  {
   "cell_type": "code",
   "execution_count": 1,
   "id": "298829e4-f514-487d-bf8b-368ec4c4fad3",
   "metadata": {},
   "outputs": [],
   "source": [
    "import  pandas as pd\n",
    "import matplotlib.pyplot as plt\n",
    "import seaborn as sns\n",
    "%matplotlib inline\n",
    "import numpy as np\n",
    "from sklearn.preprocessing import StandardScaler\n",
    "from sklearn.model_selection import train_test_split\n"
   ]
  },
  {
   "cell_type": "code",
   "execution_count": 2,
   "id": "63766783-b4c5-4429-9aa2-054275de5632",
   "metadata": {},
   "outputs": [],
   "source": [
    "# Task :- Model Prediction for Admission "
   ]
  },
  {
   "cell_type": "markdown",
   "id": "07bc68a3-d1bc-4883-a4f4-65134dee3c0e",
   "metadata": {},
   "source": [
    "# Model Training"
   ]
  },
  {
   "cell_type": "code",
   "execution_count": 3,
   "id": "5f69c11b-088c-45f5-99eb-e61a6b316c0e",
   "metadata": {},
   "outputs": [],
   "source": [
    "df=pd.read_csv(\"https://raw.githubusercontent.com/srinivasav22/Graduate-Admission-Prediction/master/Admission_Predict_Ver1.1.csv\")"
   ]
  },
  {
   "cell_type": "code",
   "execution_count": 4,
   "id": "b0f4b833-8c47-4c4b-bd1d-ecf272add53c",
   "metadata": {},
   "outputs": [
    {
     "data": {
      "text/html": [
       "<div>\n",
       "<style scoped>\n",
       "    .dataframe tbody tr th:only-of-type {\n",
       "        vertical-align: middle;\n",
       "    }\n",
       "\n",
       "    .dataframe tbody tr th {\n",
       "        vertical-align: top;\n",
       "    }\n",
       "\n",
       "    .dataframe thead th {\n",
       "        text-align: right;\n",
       "    }\n",
       "</style>\n",
       "<table border=\"1\" class=\"dataframe\">\n",
       "  <thead>\n",
       "    <tr style=\"text-align: right;\">\n",
       "      <th></th>\n",
       "      <th>Serial No.</th>\n",
       "      <th>GRE Score</th>\n",
       "      <th>TOEFL Score</th>\n",
       "      <th>University Rating</th>\n",
       "      <th>SOP</th>\n",
       "      <th>LOR</th>\n",
       "      <th>CGPA</th>\n",
       "      <th>Research</th>\n",
       "      <th>Chance of Admit</th>\n",
       "    </tr>\n",
       "  </thead>\n",
       "  <tbody>\n",
       "    <tr>\n",
       "      <th>0</th>\n",
       "      <td>1</td>\n",
       "      <td>337</td>\n",
       "      <td>118</td>\n",
       "      <td>4</td>\n",
       "      <td>4.5</td>\n",
       "      <td>4.5</td>\n",
       "      <td>9.65</td>\n",
       "      <td>1</td>\n",
       "      <td>0.92</td>\n",
       "    </tr>\n",
       "    <tr>\n",
       "      <th>1</th>\n",
       "      <td>2</td>\n",
       "      <td>324</td>\n",
       "      <td>107</td>\n",
       "      <td>4</td>\n",
       "      <td>4.0</td>\n",
       "      <td>4.5</td>\n",
       "      <td>8.87</td>\n",
       "      <td>1</td>\n",
       "      <td>0.76</td>\n",
       "    </tr>\n",
       "    <tr>\n",
       "      <th>2</th>\n",
       "      <td>3</td>\n",
       "      <td>316</td>\n",
       "      <td>104</td>\n",
       "      <td>3</td>\n",
       "      <td>3.0</td>\n",
       "      <td>3.5</td>\n",
       "      <td>8.00</td>\n",
       "      <td>1</td>\n",
       "      <td>0.72</td>\n",
       "    </tr>\n",
       "    <tr>\n",
       "      <th>3</th>\n",
       "      <td>4</td>\n",
       "      <td>322</td>\n",
       "      <td>110</td>\n",
       "      <td>3</td>\n",
       "      <td>3.5</td>\n",
       "      <td>2.5</td>\n",
       "      <td>8.67</td>\n",
       "      <td>1</td>\n",
       "      <td>0.80</td>\n",
       "    </tr>\n",
       "    <tr>\n",
       "      <th>4</th>\n",
       "      <td>5</td>\n",
       "      <td>314</td>\n",
       "      <td>103</td>\n",
       "      <td>2</td>\n",
       "      <td>2.0</td>\n",
       "      <td>3.0</td>\n",
       "      <td>8.21</td>\n",
       "      <td>0</td>\n",
       "      <td>0.65</td>\n",
       "    </tr>\n",
       "  </tbody>\n",
       "</table>\n",
       "</div>"
      ],
      "text/plain": [
       "   Serial No.  GRE Score  TOEFL Score  University Rating  SOP  LOR   CGPA  \\\n",
       "0           1        337          118                  4  4.5   4.5  9.65   \n",
       "1           2        324          107                  4  4.0   4.5  8.87   \n",
       "2           3        316          104                  3  3.0   3.5  8.00   \n",
       "3           4        322          110                  3  3.5   2.5  8.67   \n",
       "4           5        314          103                  2  2.0   3.0  8.21   \n",
       "\n",
       "   Research  Chance of Admit   \n",
       "0         1              0.92  \n",
       "1         1              0.76  \n",
       "2         1              0.72  \n",
       "3         1              0.80  \n",
       "4         0              0.65  "
      ]
     },
     "execution_count": 4,
     "metadata": {},
     "output_type": "execute_result"
    }
   ],
   "source": [
    "df.head()     "
   ]
  },
  {
   "cell_type": "code",
   "execution_count": 5,
   "id": "6a51f74c-51f0-4954-801b-3f16e81ae621",
   "metadata": {},
   "outputs": [
    {
     "name": "stdout",
     "output_type": "stream",
     "text": [
      "<class 'pandas.core.frame.DataFrame'>\n",
      "RangeIndex: 500 entries, 0 to 499\n",
      "Data columns (total 9 columns):\n",
      " #   Column             Non-Null Count  Dtype  \n",
      "---  ------             --------------  -----  \n",
      " 0   Serial No.         500 non-null    int64  \n",
      " 1   GRE Score          500 non-null    int64  \n",
      " 2   TOEFL Score        500 non-null    int64  \n",
      " 3   University Rating  500 non-null    int64  \n",
      " 4   SOP                500 non-null    float64\n",
      " 5   LOR                500 non-null    float64\n",
      " 6   CGPA               500 non-null    float64\n",
      " 7   Research           500 non-null    int64  \n",
      " 8   Chance of Admit    500 non-null    float64\n",
      "dtypes: float64(4), int64(5)\n",
      "memory usage: 35.3 KB\n"
     ]
    }
   ],
   "source": [
    "df.info()    #this dataset is well cleaned "
   ]
  },
  {
   "cell_type": "code",
   "execution_count": 6,
   "id": "bc95734e-2f95-4798-bdf7-9c623b28c3ad",
   "metadata": {},
   "outputs": [
    {
     "data": {
      "text/plain": [
       "0"
      ]
     },
     "execution_count": 6,
     "metadata": {},
     "output_type": "execute_result"
    }
   ],
   "source": [
    "df.isnull().any().sum()   #Checking Null values"
   ]
  },
  {
   "cell_type": "code",
   "execution_count": 7,
   "id": "f1e1987d-812c-4dc0-a873-520c63604f2a",
   "metadata": {},
   "outputs": [
    {
     "data": {
      "text/plain": [
       "Index(['Serial No.', 'GRE Score', 'TOEFL Score', 'University Rating', 'SOP',\n",
       "       'LOR ', 'CGPA', 'Research', 'Chance of Admit '],\n",
       "      dtype='object')"
      ]
     },
     "execution_count": 7,
     "metadata": {},
     "output_type": "execute_result"
    }
   ],
   "source": [
    "df.columns"
   ]
  },
  {
   "cell_type": "code",
   "execution_count": 8,
   "id": "856cd40d-2ea0-4e06-bf38-fe2eda7a9ceb",
   "metadata": {},
   "outputs": [],
   "source": [
    "#striping spaces from columns \n",
    "df.columns=df.columns.str.strip()"
   ]
  },
  {
   "cell_type": "code",
   "execution_count": 9,
   "id": "acff3cca-d4da-4972-abcc-bb9eb0b50085",
   "metadata": {},
   "outputs": [
    {
     "data": {
      "text/plain": [
       "Index(['Serial No.', 'GRE Score', 'TOEFL Score', 'University Rating', 'SOP',\n",
       "       'LOR', 'CGPA', 'Research', 'Chance of Admit'],\n",
       "      dtype='object')"
      ]
     },
     "execution_count": 9,
     "metadata": {},
     "output_type": "execute_result"
    }
   ],
   "source": [
    "df.columns     #now space are removed "
   ]
  },
  {
   "cell_type": "code",
   "execution_count": 10,
   "id": "1695cc98-2da0-41fb-b9dc-d87e74b08770",
   "metadata": {},
   "outputs": [],
   "source": [
    "#taking indepenedent and dependent feature  Separate\n",
    "df=df.drop(\"Research\", axis=1)\n",
    "x=df.drop('Chance of Admit' , axis=1)\n",
    "y=df[\"Chance of Admit\"]\n"
   ]
  },
  {
   "cell_type": "code",
   "execution_count": 11,
   "id": "54993889-86ec-4f12-bdf7-a5d398b85bc0",
   "metadata": {},
   "outputs": [
    {
     "data": {
      "text/html": [
       "<div>\n",
       "<style scoped>\n",
       "    .dataframe tbody tr th:only-of-type {\n",
       "        vertical-align: middle;\n",
       "    }\n",
       "\n",
       "    .dataframe tbody tr th {\n",
       "        vertical-align: top;\n",
       "    }\n",
       "\n",
       "    .dataframe thead th {\n",
       "        text-align: right;\n",
       "    }\n",
       "</style>\n",
       "<table border=\"1\" class=\"dataframe\">\n",
       "  <thead>\n",
       "    <tr style=\"text-align: right;\">\n",
       "      <th></th>\n",
       "      <th>Serial No.</th>\n",
       "      <th>GRE Score</th>\n",
       "      <th>TOEFL Score</th>\n",
       "      <th>University Rating</th>\n",
       "      <th>SOP</th>\n",
       "      <th>LOR</th>\n",
       "      <th>CGPA</th>\n",
       "    </tr>\n",
       "  </thead>\n",
       "  <tbody>\n",
       "    <tr>\n",
       "      <th>0</th>\n",
       "      <td>1</td>\n",
       "      <td>337</td>\n",
       "      <td>118</td>\n",
       "      <td>4</td>\n",
       "      <td>4.5</td>\n",
       "      <td>4.5</td>\n",
       "      <td>9.65</td>\n",
       "    </tr>\n",
       "    <tr>\n",
       "      <th>1</th>\n",
       "      <td>2</td>\n",
       "      <td>324</td>\n",
       "      <td>107</td>\n",
       "      <td>4</td>\n",
       "      <td>4.0</td>\n",
       "      <td>4.5</td>\n",
       "      <td>8.87</td>\n",
       "    </tr>\n",
       "    <tr>\n",
       "      <th>2</th>\n",
       "      <td>3</td>\n",
       "      <td>316</td>\n",
       "      <td>104</td>\n",
       "      <td>3</td>\n",
       "      <td>3.0</td>\n",
       "      <td>3.5</td>\n",
       "      <td>8.00</td>\n",
       "    </tr>\n",
       "    <tr>\n",
       "      <th>3</th>\n",
       "      <td>4</td>\n",
       "      <td>322</td>\n",
       "      <td>110</td>\n",
       "      <td>3</td>\n",
       "      <td>3.5</td>\n",
       "      <td>2.5</td>\n",
       "      <td>8.67</td>\n",
       "    </tr>\n",
       "    <tr>\n",
       "      <th>4</th>\n",
       "      <td>5</td>\n",
       "      <td>314</td>\n",
       "      <td>103</td>\n",
       "      <td>2</td>\n",
       "      <td>2.0</td>\n",
       "      <td>3.0</td>\n",
       "      <td>8.21</td>\n",
       "    </tr>\n",
       "  </tbody>\n",
       "</table>\n",
       "</div>"
      ],
      "text/plain": [
       "   Serial No.  GRE Score  TOEFL Score  University Rating  SOP  LOR  CGPA\n",
       "0           1        337          118                  4  4.5  4.5  9.65\n",
       "1           2        324          107                  4  4.0  4.5  8.87\n",
       "2           3        316          104                  3  3.0  3.5  8.00\n",
       "3           4        322          110                  3  3.5  2.5  8.67\n",
       "4           5        314          103                  2  2.0  3.0  8.21"
      ]
     },
     "execution_count": 11,
     "metadata": {},
     "output_type": "execute_result"
    }
   ],
   "source": [
    "x.head()"
   ]
  },
  {
   "cell_type": "code",
   "execution_count": 12,
   "id": "1e2a3401-022a-4eb7-99f2-0d5aa6a45288",
   "metadata": {},
   "outputs": [
    {
     "data": {
      "text/plain": [
       "0    0.92\n",
       "1    0.76\n",
       "2    0.72\n",
       "3    0.80\n",
       "4    0.65\n",
       "Name: Chance of Admit, dtype: float64"
      ]
     },
     "execution_count": 12,
     "metadata": {},
     "output_type": "execute_result"
    }
   ],
   "source": [
    "y.head()"
   ]
  },
  {
   "cell_type": "markdown",
   "id": "1ab08ce5-e4ae-4669-85eb-0eef550d2618",
   "metadata": {},
   "source": [
    "# Model traing "
   ]
  },
  {
   "cell_type": "code",
   "execution_count": 13,
   "id": "d8cdd4c4-f4e8-478e-854c-fcaaec4b8718",
   "metadata": {},
   "outputs": [],
   "source": [
    "#applying train_test_split \n",
    "x_train , x_test , y_train , y_test = train_test_split(x , y , test_size=0.33 , random_state=42)   #taking 33% test size\n"
   ]
  },
  {
   "cell_type": "code",
   "execution_count": 14,
   "id": "ed2d4d68-f327-4d4b-aee0-446006a760bd",
   "metadata": {},
   "outputs": [],
   "source": [
    "#using faeture selection making features into same scale \n",
    "scalar=StandardScaler()\n",
    "x_train_sca=scalar.fit_transform(x_train)"
   ]
  },
  {
   "cell_type": "code",
   "execution_count": 15,
   "id": "7e41f3c3-f935-47fd-b4cc-3d2487dfac2a",
   "metadata": {},
   "outputs": [
    {
     "data": {
      "text/plain": [
       "<Axes: >"
      ]
     },
     "execution_count": 15,
     "metadata": {},
     "output_type": "execute_result"
    },
    {
     "data": {
      "image/png": "[encoded data removed]",
      "text/plain": [
       "<Figure size 640x480 with 1 Axes>"
      ]
     },
     "metadata": {},
     "output_type": "display_data"
    }
   ],
   "source": [
    "sns.boxplot(x_train_sca)    "
   ]
  },
  {
   "cell_type": "code",
   "execution_count": 16,
   "id": "0914e9a2-cd72-4fa8-b5f7-2810e15ec011",
   "metadata": {},
   "outputs": [],
   "source": [
    "x_test_sca=scalar.transform(x_test)"
   ]
  },
  {
   "cell_type": "code",
   "execution_count": 17,
   "id": "f4dc824f-c610-4963-b077-a27e982c2497",
   "metadata": {},
   "outputs": [
    {
     "data": {
      "text/plain": [
       "((335, 7), (165, 7))"
      ]
     },
     "execution_count": 17,
     "metadata": {},
     "output_type": "execute_result"
    }
   ],
   "source": [
    "x_train_sca.shape , x_test_sca.shape"
   ]
  },
  {
   "cell_type": "code",
   "execution_count": 18,
   "id": "246b41f3-765c-44b5-89dc-a3542dcde024",
   "metadata": {},
   "outputs": [
    {
     "data": {
      "text/plain": [
       "((335,), (165,))"
      ]
     },
     "execution_count": 18,
     "metadata": {},
     "output_type": "execute_result"
    }
   ],
   "source": [
    "y_train.shape , y_test.shape"
   ]
  },
  {
   "cell_type": "markdown",
   "id": "3c903783-9d26-45f3-854e-0b4b053138d0",
   "metadata": {},
   "source": [
    "# SVR Model training"
   ]
  },
  {
   "cell_type": "code",
   "execution_count": 19,
   "id": "c847605a-f38f-458d-831d-5953680ff2c5",
   "metadata": {},
   "outputs": [],
   "source": [
    "from sklearn.svm import SVR"
   ]
  },
  {
   "cell_type": "code",
   "execution_count": 20,
   "id": "4823c9c7-1630-438c-be22-7ba8fd222a69",
   "metadata": {},
   "outputs": [],
   "source": [
    "svr=SVR()"
   ]
  },
  {
   "cell_type": "code",
   "execution_count": 21,
   "id": "aabb6684-c2b2-4ac9-b18b-d12dcd4792c0",
   "metadata": {},
   "outputs": [
    {
     "data": {
      "text/html": [
       "<style>#sk-container-id-1 {color: black;background-color: white;}#sk-container-id-1 pre{padding: 0;}#sk-container-id-1 div.sk-toggleable {background-color: white;}#sk-container-id-1 label.sk-toggleable__label {cursor: pointer;display: block;width: 100%;margin-bottom: 0;padding: 0.3em;box-sizing: border-box;text-align: center;}#sk-container-id-1 label.sk-toggleable__label-arrow:before {content: \"▸\";float: left;margin-right: 0.25em;color: #696969;}#sk-container-id-1 label.sk-toggleable__label-arrow:hover:before {color: black;}#sk-container-id-1 div.sk-estimator:hover label.sk-toggleable__label-arrow:before {color: black;}#sk-container-id-1 div.sk-toggleable__content {max-height: 0;max-width: 0;overflow: hidden;text-align: left;background-color: #f0f8ff;}#sk-container-id-1 div.sk-toggleable__content pre {margin: 0.2em;color: black;border-radius: 0.25em;background-color: #f0f8ff;}#sk-container-id-1 input.sk-toggleable__control:checked~div.sk-toggleable__content {max-height: 200px;max-width: 100%;overflow: auto;}#sk-container-id-1 input.sk-toggleable__control:checked~label.sk-toggleable__label-arrow:before {content: \"▾\";}#sk-container-id-1 div.sk-estimator input.sk-toggleable__control:checked~label.sk-toggleable__label {background-color: #d4ebff;}#sk-container-id-1 div.sk-label input.sk-toggleable__control:checked~label.sk-toggleable__label {background-color: #d4ebff;}#sk-container-id-1 input.sk-hidden--visually {border: 0;clip: rect(1px 1px 1px 1px);clip: rect(1px, 1px, 1px, 1px);height: 1px;margin: -1px;overflow: hidden;padding: 0;position: absolute;width: 1px;}#sk-container-id-1 div.sk-estimator {font-family: monospace;background-color: #f0f8ff;border: 1px dotted black;border-radius: 0.25em;box-sizing: border-box;margin-bottom: 0.5em;}#sk-container-id-1 div.sk-estimator:hover {background-color: #d4ebff;}#sk-container-id-1 div.sk-parallel-item::after {content: \"\";width: 100%;border-bottom: 1px solid gray;flex-grow: 1;}#sk-container-id-1 div.sk-label:hover label.sk-toggleable__label {background-color: #d4ebff;}#sk-container-id-1 div.sk-serial::before {content: \"\";position: absolute;border-left: 1px solid gray;box-sizing: border-box;top: 0;bottom: 0;left: 50%;z-index: 0;}#sk-container-id-1 div.sk-serial {display: flex;flex-direction: column;align-items: center;background-color: white;padding-right: 0.2em;padding-left: 0.2em;position: relative;}#sk-container-id-1 div.sk-item {position: relative;z-index: 1;}#sk-container-id-1 div.sk-parallel {display: flex;align-items: stretch;justify-content: center;background-color: white;position: relative;}#sk-container-id-1 div.sk-item::before, #sk-container-id-1 div.sk-parallel-item::before {content: \"\";position: absolute;border-left: 1px solid gray;box-sizing: border-box;top: 0;bottom: 0;left: 50%;z-index: -1;}#sk-container-id-1 div.sk-parallel-item {display: flex;flex-direction: column;z-index: 1;position: relative;background-color: white;}#sk-container-id-1 div.sk-parallel-item:first-child::after {align-self: flex-end;width: 50%;}#sk-container-id-1 div.sk-parallel-item:last-child::after {align-self: flex-start;width: 50%;}#sk-container-id-1 div.sk-parallel-item:only-child::after {width: 0;}#sk-container-id-1 div.sk-dashed-wrapped {border: 1px dashed gray;margin: 0 0.4em 0.5em 0.4em;box-sizing: border-box;padding-bottom: 0.4em;background-color: white;}#sk-container-id-1 div.sk-label label {font-family: monospace;font-weight: bold;display: inline-block;line-height: 1.2em;}#sk-container-id-1 div.sk-label-container {text-align: center;}#sk-container-id-1 div.sk-container {/* jupyter's `normalize.less` sets `[hidden] { display: none; }` but bootstrap.min.css set `[hidden] { display: none !important; }` so we also need the `!important` here to be able to override the default hidden behavior on the sphinx rendered scikit-learn.org. See: https://github.com/scikit-learn/scikit-learn/issues/21755 */display: inline-block !important;position: relative;}#sk-container-id-1 div.sk-text-repr-fallback {display: none;}</style><div id=\"sk-container-id-1\" class=\"sk-top-container\"><div class=\"sk-text-repr-fallback\"><pre>SVR()</pre><b>In a Jupyter environment, please rerun this cell to show the HTML representation or trust the notebook. <br />On GitHub, the HTML representation is unable to render, please try loading this page with nbviewer.org.</b></div><div class=\"sk-container\" hidden><div class=\"sk-item\"><div class=\"sk-estimator sk-toggleable\"><input class=\"sk-toggleable__control sk-hidden--visually\" id=\"sk-estimator-id-1\" type=\"checkbox\" checked><label for=\"sk-estimator-id-1\" class=\"sk-toggleable__label sk-toggleable__label-arrow\">SVR</label><div class=\"sk-toggleable__content\"><pre>SVR()</pre></div></div></div></div></div>"
      ],
      "text/plain": [
       "SVR()"
      ]
     },
     "execution_count": 21,
     "metadata": {},
     "output_type": "execute_result"
    }
   ],
   "source": [
    "svr.fit(x_train_sca , y_train)"
   ]
  },
  {
   "cell_type": "code",
   "execution_count": 22,
   "id": "e2f840ec-abb5-491d-9758-932546f84306",
   "metadata": {},
   "outputs": [],
   "source": [
    "y_predict= svr.predict(x_test_sca)"
   ]
  },
  {
   "cell_type": "code",
   "execution_count": 23,
   "id": "83f8a71a-ae4a-4a60-abed-1407f9f0c8df",
   "metadata": {},
   "outputs": [
    {
     "data": {
      "text/plain": [
       "array([0.86946462, 0.72040697, 0.58144904, 0.71078953, 0.71213088,\n",
       "       0.85174656, 0.52879432, 0.62660051, 0.69187036, 0.74846116,\n",
       "       0.57964146, 0.7610366 , 0.65273837, 0.87538015, 0.82795255,\n",
       "       0.48334034, 0.7875714 , 0.44516445, 0.53579188, 0.53424311,\n",
       "       0.60410824, 0.55704452, 0.7135911 , 0.77317206, 0.64896711,\n",
       "       0.5830847 , 0.84520134, 0.83489097, 0.61973344, 0.75416577,\n",
       "       0.55309213, 0.79860721, 0.56141613, 0.83200294, 0.5960976 ,\n",
       "       0.74665887, 0.54170979, 0.88507533, 0.62789717, 0.65874703,\n",
       "       0.86712163, 0.45211021, 0.5923437 , 0.84796287, 0.82452501,\n",
       "       0.49432231, 0.84627422, 0.7225244 , 0.7678569 , 0.86274562,\n",
       "       0.84497728, 0.53896146, 0.71631945, 0.54999761, 0.91304647,\n",
       "       0.60987967, 0.8558657 , 0.61172585, 0.66935923, 0.40910325,\n",
       "       0.59311333, 0.68336723, 0.60514469, 0.64023678, 0.50045369,\n",
       "       0.57137813, 0.8382356 , 0.85394616, 0.67759893, 0.70576695,\n",
       "       0.58681819, 0.78868717, 0.70816931, 0.59393382, 0.55651999,\n",
       "       0.73005707, 0.86739605, 0.78553439, 0.46979452, 0.62048765,\n",
       "       0.70847519, 0.81928745, 0.63575265, 0.82202859, 0.73360607,\n",
       "       0.66996475, 0.60224796, 0.73412091, 0.78608534, 0.71002503,\n",
       "       0.72646219, 0.84171072, 0.88211642, 0.7027353 , 0.77110052,\n",
       "       0.49209967, 0.64343747, 0.67842229, 0.70905757, 0.55184004,\n",
       "       0.7788735 , 0.75311287, 0.52551014, 0.69749006, 0.69877573,\n",
       "       0.58048784, 0.77621987, 0.75505872, 0.69222171, 0.68059964,\n",
       "       0.59185085, 0.87905784, 0.83980643, 0.86802382, 0.42646748,\n",
       "       0.80312545, 0.71135859, 0.89267907, 0.54035271, 0.57768645,\n",
       "       0.73249398, 0.86367811, 0.75147621, 0.70269669, 0.73683421,\n",
       "       0.78810966, 0.59794066, 0.89760743, 0.7821791 , 0.52959338,\n",
       "       0.62170141, 0.71792396, 0.78933563, 0.49499793, 0.78301352,\n",
       "       0.42420996, 0.81733963, 0.81720796, 0.58163313, 0.71329444,\n",
       "       0.66387801, 0.6797112 , 0.79433126, 0.45962175, 0.91004457,\n",
       "       0.69093622, 0.86771613, 0.80642458, 0.68493144, 0.68850371,\n",
       "       0.73501441, 0.59993041, 0.77285981, 0.59610003, 0.60226212,\n",
       "       0.61077155, 0.58831706, 0.74835213, 0.46951543, 0.52926318,\n",
       "       0.63366644, 0.79450271, 0.66186834, 0.45080261, 0.60136126])"
      ]
     },
     "execution_count": 23,
     "metadata": {},
     "output_type": "execute_result"
    }
   ],
   "source": [
    "y_predict"
   ]
  },
  {
   "cell_type": "code",
   "execution_count": 24,
   "id": "76bfd982-c0b4-4a51-b256-fe086d3976f0",
   "metadata": {},
   "outputs": [],
   "source": [
    "from sklearn.metrics import mean_absolute_error , mean_squared_error , r2_score "
   ]
  },
  {
   "cell_type": "code",
   "execution_count": 25,
   "id": "2da2f01c-d005-4623-9a1f-88d94f663d98",
   "metadata": {},
   "outputs": [],
   "source": [
    "mae=mean_absolute_error(y_test , y_predict)"
   ]
  },
  {
   "cell_type": "code",
   "execution_count": 26,
   "id": "d8598aa0-9404-4219-9bf1-e7b022f200c7",
   "metadata": {},
   "outputs": [
    {
     "data": {
      "text/plain": [
       "0.05510048815824119"
      ]
     },
     "execution_count": 26,
     "metadata": {},
     "output_type": "execute_result"
    }
   ],
   "source": [
    "mae"
   ]
  },
  {
   "cell_type": "code",
   "execution_count": 27,
   "id": "694572dc-0ae7-4ba1-9acc-894be205d802",
   "metadata": {},
   "outputs": [],
   "source": [
    "r2_square=r2_score(y_test , y_predict)"
   ]
  },
  {
   "cell_type": "code",
   "execution_count": 28,
   "id": "e7d8cae1-b495-4d77-96b7-f98884cdcb36",
   "metadata": {},
   "outputs": [
    {
     "data": {
      "text/plain": [
       "0.7648567602096008"
      ]
     },
     "execution_count": 28,
     "metadata": {},
     "output_type": "execute_result"
    }
   ],
   "source": [
    "r2_square"
   ]
  },
  {
   "cell_type": "code",
   "execution_count": 29,
   "id": "651482e6-4443-4b16-8496-7f6c8c9ffe3b",
   "metadata": {},
   "outputs": [],
   "source": [
    "mse=mean_squared_error(y_test , y_predict)"
   ]
  },
  {
   "cell_type": "code",
   "execution_count": 30,
   "id": "0024b0bc-c386-4bb4-9c66-dbfd77c415cb",
   "metadata": {},
   "outputs": [
    {
     "data": {
      "text/plain": [
       "0.0048447505289936875"
      ]
     },
     "execution_count": 30,
     "metadata": {},
     "output_type": "execute_result"
    }
   ],
   "source": [
    "mse"
   ]
  },
  {
   "cell_type": "code",
   "execution_count": 31,
   "id": "e0418cf1-6e95-4657-95a9-c0209c068015",
   "metadata": {},
   "outputs": [],
   "source": [
    "res=y_test - y_predict"
   ]
  },
  {
   "cell_type": "code",
   "execution_count": 32,
   "id": "309ce26f-7ccc-4d56-b412-de3ed9f15dc6",
   "metadata": {},
   "outputs": [
    {
     "data": {
      "text/plain": [
       "<Axes: xlabel='Chance of Admit', ylabel='Count'>"
      ]
     },
     "execution_count": 32,
     "metadata": {},
     "output_type": "execute_result"
    },
    {
     "data": {
      "image/png": "[encoded data removed]",
      "text/plain": [
       "<Figure size 1000x500 with 1 Axes>"
      ]
     },
     "metadata": {},
     "output_type": "display_data"
    }
   ],
   "source": [
    "plt.figure(figsize=(10,5))   #its look Normal Distribution which is good\n",
    "sns.histplot(res , kde=True)"
   ]
  },
  {
   "cell_type": "code",
   "execution_count": null,
   "id": "582906db-9771-4aaa-8dd4-939e8ab0d9d4",
   "metadata": {},
   "outputs": [
    {
     "name": "stdout",
     "output_type": "stream",
     "text": [
      "Fitting 5 folds for each of 48 candidates, totalling 240 fits\n",
      "[CV] END .........................C=0.1, gamma=1, kernel=rbf; total time=   0.0s\n",
      "[CV] END .........................C=0.1, gamma=1, kernel=rbf; total time=   0.0s\n",
      "[CV] END .........................C=0.1, gamma=1, kernel=rbf; total time=   0.0s\n",
      "[CV] END .........................C=0.1, gamma=1, kernel=rbf; total time=   0.0s\n",
      "[CV] END .........................C=0.1, gamma=1, kernel=rbf; total time=   0.0s\n",
      "[CV] END ........................C=0.1, gamma=1, kernel=poly; total time=   0.4s\n",
      "[CV] END ........................C=0.1, gamma=1, kernel=poly; total time=   0.1s\n",
      "[CV] END ........................C=0.1, gamma=1, kernel=poly; total time=   0.2s\n",
      "[CV] END ........................C=0.1, gamma=1, kernel=poly; total time=   0.3s\n",
      "[CV] END ........................C=0.1, gamma=1, kernel=poly; total time=   0.3s\n",
      "[CV] END ....................C=0.1, gamma=1, kernel=sigmpoid; total time=   0.0s\n",
      "[CV] END ....................C=0.1, gamma=1, kernel=sigmpoid; total time=   0.0s\n",
      "[CV] END ....................C=0.1, gamma=1, kernel=sigmpoid; total time=   0.0s\n",
      "[CV] END ....................C=0.1, gamma=1, kernel=sigmpoid; total time=   0.0s\n",
      "[CV] END ....................C=0.1, gamma=1, kernel=sigmpoid; total time=   0.0s\n",
      "[CV] END .......................C=0.1, gamma=0.1, kernel=rbf; total time=   0.0s\n",
      "[CV] END .......................C=0.1, gamma=0.1, kernel=rbf; total time=   0.0s\n",
      "[CV] END .......................C=0.1, gamma=0.1, kernel=rbf; total time=   0.0s\n",
      "[CV] END .......................C=0.1, gamma=0.1, kernel=rbf; total time=   0.0s\n",
      "[CV] END .......................C=0.1, gamma=0.1, kernel=rbf; total time=   0.0s\n",
      "[CV] END ......................C=0.1, gamma=0.1, kernel=poly; total time=   0.0s\n",
      "[CV] END ......................C=0.1, gamma=0.1, kernel=poly; total time=   0.0s\n",
      "[CV] END ......................C=0.1, gamma=0.1, kernel=poly; total time=   0.0s\n",
      "[CV] END ......................C=0.1, gamma=0.1, kernel=poly; total time=   0.0s\n",
      "[CV] END ......................C=0.1, gamma=0.1, kernel=poly; total time=   0.0s\n",
      "[CV] END ..................C=0.1, gamma=0.1, kernel=sigmpoid; total time=   0.0s\n",
      "[CV] END ..................C=0.1, gamma=0.1, kernel=sigmpoid; total time=   0.0s\n",
      "[CV] END ..................C=0.1, gamma=0.1, kernel=sigmpoid; total time=   0.0s\n",
      "[CV] END ..................C=0.1, gamma=0.1, kernel=sigmpoid; total time=   0.0s\n",
      "[CV] END ..................C=0.1, gamma=0.1, kernel=sigmpoid; total time=   0.0s\n",
      "[CV] END ......................C=0.1, gamma=0.01, kernel=rbf; total time=   0.0s\n",
      "[CV] END ......................C=0.1, gamma=0.01, kernel=rbf; total time=   0.0s\n",
      "[CV] END ......................C=0.1, gamma=0.01, kernel=rbf; total time=   0.0s\n",
      "[CV] END ......................C=0.1, gamma=0.01, kernel=rbf; total time=   0.0s\n",
      "[CV] END ......................C=0.1, gamma=0.01, kernel=rbf; total time=   0.0s\n",
      "[CV] END .....................C=0.1, gamma=0.01, kernel=poly; total time=   0.0s\n",
      "[CV] END .....................C=0.1, gamma=0.01, kernel=poly; total time=   0.0s\n",
      "[CV] END .....................C=0.1, gamma=0.01, kernel=poly; total time=   0.0s\n",
      "[CV] END .....................C=0.1, gamma=0.01, kernel=poly; total time=   0.0s\n",
      "[CV] END .....................C=0.1, gamma=0.01, kernel=poly; total time=   0.0s\n",
      "[CV] END .................C=0.1, gamma=0.01, kernel=sigmpoid; total time=   0.0s\n",
      "[CV] END .................C=0.1, gamma=0.01, kernel=sigmpoid; total time=   0.0s\n",
      "[CV] END .................C=0.1, gamma=0.01, kernel=sigmpoid; total time=   0.0s\n",
      "[CV] END .................C=0.1, gamma=0.01, kernel=sigmpoid; total time=   0.0s\n",
      "[CV] END .................C=0.1, gamma=0.01, kernel=sigmpoid; total time=   0.0s\n",
      "[CV] END .....................C=0.1, gamma=0.001, kernel=rbf; total time=   0.0s\n",
      "[CV] END .....................C=0.1, gamma=0.001, kernel=rbf; total time=   0.0s\n",
      "[CV] END .....................C=0.1, gamma=0.001, kernel=rbf; total time=   0.0s\n",
      "[CV] END .....................C=0.1, gamma=0.001, kernel=rbf; total time=   0.0s\n",
      "[CV] END .....................C=0.1, gamma=0.001, kernel=rbf; total time=   0.0s\n",
      "[CV] END ....................C=0.1, gamma=0.001, kernel=poly; total time=   0.0s\n",
      "[CV] END ....................C=0.1, gamma=0.001, kernel=poly; total time=   0.0s\n",
      "[CV] END ....................C=0.1, gamma=0.001, kernel=poly; total time=   0.0s\n",
      "[CV] END ....................C=0.1, gamma=0.001, kernel=poly; total time=   0.0s\n",
      "[CV] END ....................C=0.1, gamma=0.001, kernel=poly; total time=   0.0s\n",
      "[CV] END ................C=0.1, gamma=0.001, kernel=sigmpoid; total time=   0.0s\n",
      "[CV] END ................C=0.1, gamma=0.001, kernel=sigmpoid; total time=   0.0s\n",
      "[CV] END ................C=0.1, gamma=0.001, kernel=sigmpoid; total time=   0.0s\n",
      "[CV] END ................C=0.1, gamma=0.001, kernel=sigmpoid; total time=   0.0s\n",
      "[CV] END ................C=0.1, gamma=0.001, kernel=sigmpoid; total time=   0.0s\n",
      "[CV] END ...........................C=1, gamma=1, kernel=rbf; total time=   0.0s\n",
      "[CV] END ...........................C=1, gamma=1, kernel=rbf; total time=   0.0s\n",
      "[CV] END ...........................C=1, gamma=1, kernel=rbf; total time=   0.0s\n",
      "[CV] END ...........................C=1, gamma=1, kernel=rbf; total time=   0.0s\n",
      "[CV] END ...........................C=1, gamma=1, kernel=rbf; total time=   0.0s\n",
      "[CV] END ..........................C=1, gamma=1, kernel=poly; total time=   5.1s\n",
      "[CV] END ..........................C=1, gamma=1, kernel=poly; total time=   2.7s\n",
      "[CV] END ..........................C=1, gamma=1, kernel=poly; total time=   4.3s\n",
      "[CV] END ..........................C=1, gamma=1, kernel=poly; total time=   5.8s\n",
      "[CV] END ..........................C=1, gamma=1, kernel=poly; total time=   4.0s\n",
      "[CV] END ......................C=1, gamma=1, kernel=sigmpoid; total time=   0.0s\n",
      "[CV] END ......................C=1, gamma=1, kernel=sigmpoid; total time=   0.0s\n",
      "[CV] END ......................C=1, gamma=1, kernel=sigmpoid; total time=   0.0s\n",
      "[CV] END ......................C=1, gamma=1, kernel=sigmpoid; total time=   0.0s\n",
      "[CV] END ......................C=1, gamma=1, kernel=sigmpoid; total time=   0.0s\n",
      "[CV] END .........................C=1, gamma=0.1, kernel=rbf; total time=   0.0s\n",
      "[CV] END .........................C=1, gamma=0.1, kernel=rbf; total time=   0.0s\n",
      "[CV] END .........................C=1, gamma=0.1, kernel=rbf; total time=   0.0s\n",
      "[CV] END .........................C=1, gamma=0.1, kernel=rbf; total time=   0.0s\n",
      "[CV] END .........................C=1, gamma=0.1, kernel=rbf; total time=   0.0s\n",
      "[CV] END ........................C=1, gamma=0.1, kernel=poly; total time=   0.0s\n",
      "[CV] END ........................C=1, gamma=0.1, kernel=poly; total time=   0.0s\n",
      "[CV] END ........................C=1, gamma=0.1, kernel=poly; total time=   0.0s\n",
      "[CV] END ........................C=1, gamma=0.1, kernel=poly; total time=   0.0s\n",
      "[CV] END ........................C=1, gamma=0.1, kernel=poly; total time=   0.0s\n",
      "[CV] END ....................C=1, gamma=0.1, kernel=sigmpoid; total time=   0.0s\n",
      "[CV] END ....................C=1, gamma=0.1, kernel=sigmpoid; total time=   0.0s\n",
      "[CV] END ....................C=1, gamma=0.1, kernel=sigmpoid; total time=   0.0s\n",
      "[CV] END ....................C=1, gamma=0.1, kernel=sigmpoid; total time=   0.0s\n",
      "[CV] END ....................C=1, gamma=0.1, kernel=sigmpoid; total time=   0.0s\n",
      "[CV] END ........................C=1, gamma=0.01, kernel=rbf; total time=   0.0s\n",
      "[CV] END ........................C=1, gamma=0.01, kernel=rbf; total time=   0.0s\n",
      "[CV] END ........................C=1, gamma=0.01, kernel=rbf; total time=   0.0s\n",
      "[CV] END ........................C=1, gamma=0.01, kernel=rbf; total time=   0.0s\n",
      "[CV] END ........................C=1, gamma=0.01, kernel=rbf; total time=   0.0s\n",
      "[CV] END .......................C=1, gamma=0.01, kernel=poly; total time=   0.0s\n",
      "[CV] END .......................C=1, gamma=0.01, kernel=poly; total time=   0.0s\n",
      "[CV] END .......................C=1, gamma=0.01, kernel=poly; total time=   0.0s\n",
      "[CV] END .......................C=1, gamma=0.01, kernel=poly; total time=   0.0s\n",
      "[CV] END .......................C=1, gamma=0.01, kernel=poly; total time=   0.0s\n",
      "[CV] END ...................C=1, gamma=0.01, kernel=sigmpoid; total time=   0.0s\n",
      "[CV] END ...................C=1, gamma=0.01, kernel=sigmpoid; total time=   0.0s\n",
      "[CV] END ...................C=1, gamma=0.01, kernel=sigmpoid; total time=   0.0s\n",
      "[CV] END ...................C=1, gamma=0.01, kernel=sigmpoid; total time=   0.0s\n",
      "[CV] END ...................C=1, gamma=0.01, kernel=sigmpoid; total time=   0.0s\n",
      "[CV] END .......................C=1, gamma=0.001, kernel=rbf; total time=   0.0s\n",
      "[CV] END .......................C=1, gamma=0.001, kernel=rbf; total time=   0.0s\n",
      "[CV] END .......................C=1, gamma=0.001, kernel=rbf; total time=   0.0s\n",
      "[CV] END .......................C=1, gamma=0.001, kernel=rbf; total time=   0.0s\n",
      "[CV] END .......................C=1, gamma=0.001, kernel=rbf; total time=   0.0s\n",
      "[CV] END ......................C=1, gamma=0.001, kernel=poly; total time=   0.0s\n",
      "[CV] END ......................C=1, gamma=0.001, kernel=poly; total time=   0.0s\n",
      "[CV] END ......................C=1, gamma=0.001, kernel=poly; total time=   0.0s\n",
      "[CV] END ......................C=1, gamma=0.001, kernel=poly; total time=   0.0s\n",
      "[CV] END ......................C=1, gamma=0.001, kernel=poly; total time=   0.0s\n",
      "[CV] END ..................C=1, gamma=0.001, kernel=sigmpoid; total time=   0.0s\n",
      "[CV] END ..................C=1, gamma=0.001, kernel=sigmpoid; total time=   0.0s\n",
      "[CV] END ..................C=1, gamma=0.001, kernel=sigmpoid; total time=   0.0s\n",
      "[CV] END ..................C=1, gamma=0.001, kernel=sigmpoid; total time=   0.0s\n",
      "[CV] END ..................C=1, gamma=0.001, kernel=sigmpoid; total time=   0.0s\n",
      "[CV] END ..........................C=10, gamma=1, kernel=rbf; total time=   0.0s\n",
      "[CV] END ..........................C=10, gamma=1, kernel=rbf; total time=   0.0s\n",
      "[CV] END ..........................C=10, gamma=1, kernel=rbf; total time=   0.0s\n",
      "[CV] END ..........................C=10, gamma=1, kernel=rbf; total time=   0.0s\n",
      "[CV] END ..........................C=10, gamma=1, kernel=rbf; total time=   0.0s\n",
      "[CV] END .........................C=10, gamma=1, kernel=poly; total time=  40.1s\n",
      "[CV] END .........................C=10, gamma=1, kernel=poly; total time=  39.3s\n",
      "[CV] END .........................C=10, gamma=1, kernel=poly; total time=  35.1s\n",
      "[CV] END .........................C=10, gamma=1, kernel=poly; total time=  49.1s\n",
      "[CV] END .........................C=10, gamma=1, kernel=poly; total time= 1.3min\n",
      "[CV] END .....................C=10, gamma=1, kernel=sigmpoid; total time=   0.0s\n",
      "[CV] END .....................C=10, gamma=1, kernel=sigmpoid; total time=   0.0s\n",
      "[CV] END .....................C=10, gamma=1, kernel=sigmpoid; total time=   0.0s\n",
      "[CV] END .....................C=10, gamma=1, kernel=sigmpoid; total time=   0.0s\n",
      "[CV] END .....................C=10, gamma=1, kernel=sigmpoid; total time=   0.0s\n",
      "[CV] END ........................C=10, gamma=0.1, kernel=rbf; total time=   0.0s\n",
      "[CV] END ........................C=10, gamma=0.1, kernel=rbf; total time=   0.0s\n",
      "[CV] END ........................C=10, gamma=0.1, kernel=rbf; total time=   0.0s\n",
      "[CV] END ........................C=10, gamma=0.1, kernel=rbf; total time=   0.0s\n",
      "[CV] END ........................C=10, gamma=0.1, kernel=rbf; total time=   0.0s\n",
      "[CV] END .......................C=10, gamma=0.1, kernel=poly; total time=   0.0s\n",
      "[CV] END .......................C=10, gamma=0.1, kernel=poly; total time=   0.0s\n",
      "[CV] END .......................C=10, gamma=0.1, kernel=poly; total time=   0.0s\n",
      "[CV] END .......................C=10, gamma=0.1, kernel=poly; total time=   0.0s\n",
      "[CV] END .......................C=10, gamma=0.1, kernel=poly; total time=   0.0s\n",
      "[CV] END ...................C=10, gamma=0.1, kernel=sigmpoid; total time=   0.0s\n",
      "[CV] END ...................C=10, gamma=0.1, kernel=sigmpoid; total time=   0.0s\n",
      "[CV] END ...................C=10, gamma=0.1, kernel=sigmpoid; total time=   0.0s\n",
      "[CV] END ...................C=10, gamma=0.1, kernel=sigmpoid; total time=   0.0s\n",
      "[CV] END ...................C=10, gamma=0.1, kernel=sigmpoid; total time=   0.0s\n",
      "[CV] END .......................C=10, gamma=0.01, kernel=rbf; total time=   0.0s\n",
      "[CV] END .......................C=10, gamma=0.01, kernel=rbf; total time=   0.0s\n",
      "[CV] END .......................C=10, gamma=0.01, kernel=rbf; total time=   0.0s\n",
      "[CV] END .......................C=10, gamma=0.01, kernel=rbf; total time=   0.0s\n",
      "[CV] END .......................C=10, gamma=0.01, kernel=rbf; total time=   0.0s\n",
      "[CV] END ......................C=10, gamma=0.01, kernel=poly; total time=   0.0s\n",
      "[CV] END ......................C=10, gamma=0.01, kernel=poly; total time=   0.0s\n",
      "[CV] END ......................C=10, gamma=0.01, kernel=poly; total time=   0.0s\n",
      "[CV] END ......................C=10, gamma=0.01, kernel=poly; total time=   0.0s\n",
      "[CV] END ......................C=10, gamma=0.01, kernel=poly; total time=   0.0s\n",
      "[CV] END ..................C=10, gamma=0.01, kernel=sigmpoid; total time=   0.0s\n",
      "[CV] END ..................C=10, gamma=0.01, kernel=sigmpoid; total time=   0.0s\n",
      "[CV] END ..................C=10, gamma=0.01, kernel=sigmpoid; total time=   0.0s\n",
      "[CV] END ..................C=10, gamma=0.01, kernel=sigmpoid; total time=   0.0s\n",
      "[CV] END ..................C=10, gamma=0.01, kernel=sigmpoid; total time=   0.0s\n",
      "[CV] END ......................C=10, gamma=0.001, kernel=rbf; total time=   0.0s\n",
      "[CV] END ......................C=10, gamma=0.001, kernel=rbf; total time=   0.0s\n",
      "[CV] END ......................C=10, gamma=0.001, kernel=rbf; total time=   0.0s\n",
      "[CV] END ......................C=10, gamma=0.001, kernel=rbf; total time=   0.0s\n",
      "[CV] END ......................C=10, gamma=0.001, kernel=rbf; total time=   0.0s\n",
      "[CV] END .....................C=10, gamma=0.001, kernel=poly; total time=   0.0s\n",
      "[CV] END .....................C=10, gamma=0.001, kernel=poly; total time=   0.0s\n",
      "[CV] END .....................C=10, gamma=0.001, kernel=poly; total time=   0.0s\n",
      "[CV] END .....................C=10, gamma=0.001, kernel=poly; total time=   0.0s\n",
      "[CV] END .....................C=10, gamma=0.001, kernel=poly; total time=   0.0s\n",
      "[CV] END .................C=10, gamma=0.001, kernel=sigmpoid; total time=   0.0s\n",
      "[CV] END .................C=10, gamma=0.001, kernel=sigmpoid; total time=   0.0s\n",
      "[CV] END .................C=10, gamma=0.001, kernel=sigmpoid; total time=   0.0s\n",
      "[CV] END .................C=10, gamma=0.001, kernel=sigmpoid; total time=   0.0s\n",
      "[CV] END .................C=10, gamma=0.001, kernel=sigmpoid; total time=   0.0s\n",
      "[CV] END .........................C=100, gamma=1, kernel=rbf; total time=   0.0s\n",
      "[CV] END .........................C=100, gamma=1, kernel=rbf; total time=   0.0s\n",
      "[CV] END .........................C=100, gamma=1, kernel=rbf; total time=   0.0s\n",
      "[CV] END .........................C=100, gamma=1, kernel=rbf; total time=   0.0s\n",
      "[CV] END .........................C=100, gamma=1, kernel=rbf; total time=   0.0s\n"
     ]
    }
   ],
   "source": [
    "from sklearn.model_selection import GridSearchCV\n",
    "para_gid={\"C\":[0.1 , 1 ,10,100],\"gamma\":[1,0.1 , 0.01 , 0.001],\"kernel\":['rbf', 'poly','sigmpoid']}\n",
    "grid=GridSearchCV(svr, para_gid , refit=True , verbose=2, cv=5)\n",
    "grid.fit(x_train_sca , y_train)   "
   ]
  },
  {
   "cell_type": "code",
   "execution_count": null,
   "id": "c245871e-5bf1-464e-88f1-5c4a8e41b4da",
   "metadata": {},
   "outputs": [],
   "source": [
    "#GridsearchCv is taking time "
   ]
  },
  {
   "cell_type": "code",
   "execution_count": null,
   "id": "ed78e603-2057-4fd0-a211-1607dcca27fb",
   "metadata": {},
   "outputs": [],
   "source": [
    "plt.scatter(y_test , y_predict)    #Model is linear this is good "
   ]
  },
  {
   "cell_type": "code",
   "execution_count": null,
   "id": "50088aa4-5ab3-48dd-a6af-d2d673cba5da",
   "metadata": {},
   "outputs": [],
   "source": [
    "plt.scatter(res , y_predict)     #no shape this is good"
   ]
  },
  {
   "cell_type": "code",
   "execution_count": null,
   "id": "b121e455-8fe2-4005-af1d-460ff6730245",
   "metadata": {},
   "outputs": [],
   "source": [
    "rmse=np.sqrt(mse)"
   ]
  },
  {
   "cell_type": "code",
   "execution_count": null,
   "id": "a86e7dfa-04e9-4c18-a771-b6606538d76d",
   "metadata": {},
   "outputs": [],
   "source": [
    "rmse"
   ]
  },
  {
   "cell_type": "markdown",
   "id": "75716220-59d6-4976-9062-65f0d5b2e7a0",
   "metadata": {},
   "source": [
    "# Lets train Another model "
   ]
  },
  {
   "cell_type": "code",
   "execution_count": null,
   "id": "d3374fbf-2a30-44c9-acca-ea29be4d9275",
   "metadata": {},
   "outputs": [],
   "source": [
    "from sklearn.linear_model import LinearRegression"
   ]
  },
  {
   "cell_type": "code",
   "execution_count": null,
   "id": "5e7d1af9-f3ed-47e8-b044-6e5b4bd4211f",
   "metadata": {},
   "outputs": [],
   "source": [
    "lin_reg=LinearRegression()\n"
   ]
  },
  {
   "cell_type": "code",
   "execution_count": null,
   "id": "3ac37851-caba-4349-948b-f8ad65c8d9d0",
   "metadata": {},
   "outputs": [],
   "source": [
    "lin_reg.fit(x_train_sca , y_train)"
   ]
  },
  {
   "cell_type": "code",
   "execution_count": null,
   "id": "f8c2a21a-629c-4528-9b99-e3edd51f4890",
   "metadata": {},
   "outputs": [],
   "source": [
    "y_pred_lin=lin_reg.predict(x_test_sca)"
   ]
  },
  {
   "cell_type": "code",
   "execution_count": null,
   "id": "10d6dcd4-42df-4636-b38b-356d2b252b4c",
   "metadata": {},
   "outputs": [],
   "source": [
    "plt.scatter(y_test , y_pred_lin)"
   ]
  },
  {
   "cell_type": "code",
   "execution_count": null,
   "id": "a68f9701-250c-4335-bd26-cdd4e5a0e4d8",
   "metadata": {},
   "outputs": [],
   "source": [
    "mae_lin=mean_absolute_error(y_test, y_pred_lin)\n",
    "mse_lin=mean_squared_error(y_test , y_pred_lin)\n",
    "rmse_lin=np.sqrt(mse)\n",
    "r2_sq_lin=r2_score(y_test , y_pred_lin)\n"
   ]
  },
  {
   "cell_type": "code",
   "execution_count": null,
   "id": "78116d4d-60a6-4e38-b208-8249b54dc432",
   "metadata": {},
   "outputs": [],
   "source": [
    "print(mae_lin)\n",
    "print(mse_lin)\n",
    "print(rmse_lin)\n",
    "print(r2_sq_lin)"
   ]
  },
  {
   "cell_type": "markdown",
   "id": "c60f2cd2-73a1-4383-802d-34beb115495e",
   "metadata": {},
   "source": [
    "# linear Regression  Model performing well than SVR model "
   ]
  },
  {
   "cell_type": "code",
   "execution_count": null,
   "id": "c8c27549-3b85-4216-bcb5-05be20b80e52",
   "metadata": {},
   "outputs": [],
   "source": []
  }
 ],
 "metadata": {
  "kernelspec": {
   "display_name": "Python 3 (ipykernel)",
   "language": "python",
   "name": "python3"
  },
  "language_info": {
   "codemirror_mode": {
    "name": "ipython",
    "version": 3
   },
   "file_extension": ".py",
   "mimetype": "text/x-python",
   "name": "python",
   "nbconvert_exporter": "python",
   "pygments_lexer": "ipython3",
   "version": "3.11.7"
  }
 },
 "nbformat": 4,
 "nbformat_minor": 5
}
